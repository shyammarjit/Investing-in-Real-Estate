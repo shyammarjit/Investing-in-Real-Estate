{
  "nbformat": 4,
  "nbformat_minor": 0,
  "metadata": {
    "colab": {
      "name": "Investing in Real Estate.ipynb",
      "provenance": [],
      "collapsed_sections": [],
      "authorship_tag": "ABX9TyO0qmMsRUlHDGvq8MpVQIyD",
      "include_colab_link": true
    },
    "kernelspec": {
      "name": "python3",
      "display_name": "Python 3"
    }
  },
  "cells": [
    {
      "cell_type": "markdown",
      "metadata": {
        "id": "view-in-github",
        "colab_type": "text"
      },
      "source": [
        "<a href=\"https://colab.research.google.com/github/shyammarjit/Investing-in-Real-Estate/blob/main/Investing_in_Real_Estate.ipynb\" target=\"_parent\"><img src=\"https://colab.research.google.com/assets/colab-badge.svg\" alt=\"Open In Colab\"/></a>"
      ]
    },
    {
      "cell_type": "markdown",
      "metadata": {
        "id": "HoJ5QlTAdszx"
      },
      "source": [
        "###Investing in Real Estate\n",
        "- This work is done by SHYAM MARJIT a CSE student of IIITGuwahati.\n",
        "- sujaykumarmarjit@gmail.com\n",
        "- 8927860176\n",
        "- You can find the problem statement in a PDF form .. you can solve those problem by your own algorithms.\n",
        "- This is sol of\n",
        "-- a. House Hunting problem\n",
        "-- b. Saving, with a raise Background\n",
        "-- c. Finding the right amount to save away\n",
        "\n",
        "- This is written in Python Programming language.\n",
        "- © 2020 SHYAM MARJIT.  All rights reserved"
      ]
    },
    {
      "cell_type": "markdown",
      "metadata": {
        "id": "KyejE7iNo4Xp"
      },
      "source": [
        "# **Part A: House Hunting**"
      ]
    },
    {
      "cell_type": "code",
      "metadata": {
        "id": "IJiqhTyyAXEw",
        "outputId": "05d30bde-7aff-41a7-e4ea-d48a55345969",
        "colab": {
          "base_uri": "https://localhost:8080/",
          "height": 86
        }
      },
      "source": [
        "annual_salary = float(input(\"Enter your annual salary:\")) \n",
        "portion_saved = float(input(\"Enter the percent of your salary to save, as a decimal:\"))\n",
        "total_cost = float(input(\"Enter the cost of your dream home:\")) \n",
        "monthly_salary = float(annual_salary/12)\n",
        "portion_saved = float((portion_saved*annual_salary)/12)\n",
        "month = 0\n",
        "portion_down_payment = float(total_cost*0.25)\n",
        "saved = 0\n",
        "r = 0.04\n",
        "current_savings = 0\n",
        "while(saved <= portion_down_payment):\n",
        "  current_savings = current_savings+float((saved*r)/12)\n",
        "  saved = current_savings+float(portion_saved*(month+1))\n",
        "  month = month+1\n",
        "print(\"Number of months:\",month)"
      ],
      "execution_count": null,
      "outputs": [
        {
          "output_type": "stream",
          "text": [
            "Enter your annual salary:120000\n",
            "Enter the percent of your salary to save, as a decimal:0.03\n",
            "Enter the cost of your dream home:1000000\n",
            "Number of months: 400\n"
          ],
          "name": "stdout"
        }
      ]
    },
    {
      "cell_type": "markdown",
      "metadata": {
        "id": "XdiXk32UpFUT"
      },
      "source": [
        "# **Part B: Saving, with a raise Background**"
      ]
    },
    {
      "cell_type": "code",
      "metadata": {
        "id": "3-d2lXdjpMTu",
        "outputId": "a81f737d-48c7-4d1e-8b7f-834d0c75c19f",
        "colab": {
          "base_uri": "https://localhost:8080/",
          "height": 104
        }
      },
      "source": [
        "annual_salary = float(input(\"Enter your annual salary:\"))\n",
        "semi_annual_raise = float(input(\"Enter the semiannual raise, as a decimal:\")) \n",
        "portion_saved = float(input(\"Enter the percent of your salary to save, as a decimal:\"))\n",
        "total_cost = float(input(\"Enter the cost of your dream home:\"))\n",
        "monthly_salary = float(annual_salary/12)\n",
        "month = 0\n",
        "portion_down_payment = float(total_cost*0.25)\n",
        "saved = 0\n",
        "r = 0.04\n",
        "current_savings = 0\n",
        "constant_saved=0\n",
        "while(saved <= portion_down_payment):\n",
        "  month = month+1\n",
        "  if(month!=1 and (month-1)%6==0):\n",
        "    annual_salary=annual_salary+(semi_annual_raise*annual_salary)\n",
        "  current_savings = current_savings+float((saved*r)/12)\n",
        "  constant_saved = constant_saved+float((portion_saved*annual_salary)/12)\n",
        "  saved = current_savings+constant_saved\n",
        "\n",
        "print(\"Number of months:\",month)"
      ],
      "execution_count": null,
      "outputs": [
        {
          "output_type": "stream",
          "text": [
            "Enter your annual salary:1234\n",
            "Enter the semiannual raise, as a decimal:1\n",
            "Enter the percent of your salary to save, as a decimal:2\n",
            "Enter the cost of your dream home:3\n",
            "Number of months: 1\n"
          ],
          "name": "stdout"
        }
      ]
    },
    {
      "cell_type": "markdown",
      "metadata": {
        "id": "OahWm1k2pM3W"
      },
      "source": [
        "# **Part C: Finding the right amount to save away**"
      ]
    },
    {
      "cell_type": "code",
      "metadata": {
        "id": "I6ApiYcao4Qw",
        "outputId": "d3827da5-e026-4840-aed4-14b84351fcf1",
        "colab": {
          "base_uri": "https://localhost:8080/",
          "height": 69
        }
      },
      "source": [
        "annual_salary = float(input(\"Enter the starting salary:\"))\n",
        "semi_annual_raise = 0.07\n",
        "total_cost = 1000000.0\n",
        "portion_down_payment = float(total_cost*0.25)\n",
        "monthly_salary = float(annual_salary/12)\n",
        "month = 0\n",
        "total_saved =0\n",
        "r = 0.04\n",
        "current_savings = 0\n",
        "constant_saved=0\n",
        "low = 0.0\n",
        "high =1.0\n",
        "portion_saved =(low +high)/2\n",
        "step=0\n",
        "shyam=100\n",
        "def saving_calculator(current_savings,portion_saved,annual_salary):\n",
        "    saved= 0\n",
        "    constant_saved=0\n",
        "    for month in range(0,36):\n",
        "        if(month!=0 and (month)%6==0):\n",
        "            annual_salary=annual_salary+(semi_annual_raise*annual_salary)\n",
        "        current_savings = current_savings+float((saved*r)/12)\n",
        "        constant_saved= constant_saved+float((portion_saved*annual_salary)/12)\n",
        "        saved = current_savings+constant_saved\n",
        "    return saved\n",
        "\n",
        "while(abs(total_saved-portion_down_payment)>=100):\n",
        "    if(portion_saved>=0.999):\n",
        "        shyam=101\n",
        "        break\n",
        "   \n",
        "    portion_saved=(high+low)/2.0\n",
        "    total_saved = saving_calculator(0,portion_saved,annual_salary)\n",
        "    if(total_saved<portion_down_payment):\n",
        "        low = portion_saved\n",
        "    else:\n",
        "        high = portion_saved\n",
        "    step=step+1\n",
        "if(shyam==101):\n",
        "    print(\"It is not possible to pay the down payment in the three years:\")\n",
        "else:\n",
        "    print(\"Best savings rate: \",portion_saved)\n",
        "    print(\"Steps in bisection search: \",step)\n",
        "    "
      ],
      "execution_count": null,
      "outputs": [
        {
          "output_type": "stream",
          "text": [
            "Enter the starting salary:150000\n",
            "Best savings rate:  0.44091796875\n",
            "Steps in bisection search:  11\n"
          ],
          "name": "stdout"
        }
      ]
    }
  ]
}